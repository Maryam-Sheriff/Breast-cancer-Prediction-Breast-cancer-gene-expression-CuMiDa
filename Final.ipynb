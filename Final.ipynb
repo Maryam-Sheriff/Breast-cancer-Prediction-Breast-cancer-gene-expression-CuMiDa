{
 "cells": [
  {
   "cell_type": "markdown",
   "id": "2ba4abdf",
   "metadata": {},
   "source": [
    "# pre-processing"
   ]
  },
  {
   "cell_type": "code",
   "execution_count": 49,
   "id": "c4f37115",
   "metadata": {},
   "outputs": [],
   "source": [
    "import pandas as pd\n",
    "import numpy as np\n",
    "import matplotlib.pyplot as plt\n",
    "import seaborn as sns\n",
    "from sklearn.metrics import accuracy_score\n",
    "from sklearn.model_selection import train_test_split\n",
    "from sklearn.neighbors import KNeighborsClassifier\n",
    "from sklearn.tree import DecisionTreeClassifier\n",
    "from sklearn.preprocessing import OrdinalEncoder\n",
    "from sklearn.neighbors import KNeighborsClassifier\n",
    "from sklearn.neural_network import MLPClassifier \n",
    "from sklearn.preprocessing import LabelEncoder,StandardScaler\n",
    "from sklearn.neural_network import MLPClassifier \n",
    "from sklearn.linear_model import Perceptron"
   ]
  },
  {
   "cell_type": "code",
   "execution_count": 50,
   "id": "5790b4d0",
   "metadata": {},
   "outputs": [],
   "source": [
    "df = pd.read_csv(\"Breast_GSE45827.csv\")"
   ]
  },
  {
   "cell_type": "code",
   "execution_count": 51,
   "id": "37786695",
   "metadata": {},
   "outputs": [
    {
     "data": {
      "text/html": [
       "<div>\n",
       "<style scoped>\n",
       "    .dataframe tbody tr th:only-of-type {\n",
       "        vertical-align: middle;\n",
       "    }\n",
       "\n",
       "    .dataframe tbody tr th {\n",
       "        vertical-align: top;\n",
       "    }\n",
       "\n",
       "    .dataframe thead th {\n",
       "        text-align: right;\n",
       "    }\n",
       "</style>\n",
       "<table border=\"1\" class=\"dataframe\">\n",
       "  <thead>\n",
       "    <tr style=\"text-align: right;\">\n",
       "      <th></th>\n",
       "      <th>samples</th>\n",
       "      <th>type</th>\n",
       "      <th>1007_s_at</th>\n",
       "      <th>1053_at</th>\n",
       "      <th>117_at</th>\n",
       "      <th>121_at</th>\n",
       "      <th>1255_g_at</th>\n",
       "      <th>1294_at</th>\n",
       "      <th>1316_at</th>\n",
       "      <th>1320_at</th>\n",
       "      <th>...</th>\n",
       "      <th>AFFX-r2-Ec-bioD-3_at</th>\n",
       "      <th>AFFX-r2-Ec-bioD-5_at</th>\n",
       "      <th>AFFX-r2-P1-cre-3_at</th>\n",
       "      <th>AFFX-r2-P1-cre-5_at</th>\n",
       "      <th>AFFX-ThrX-3_at</th>\n",
       "      <th>AFFX-ThrX-5_at</th>\n",
       "      <th>AFFX-ThrX-M_at</th>\n",
       "      <th>AFFX-TrpnX-3_at</th>\n",
       "      <th>AFFX-TrpnX-5_at</th>\n",
       "      <th>AFFX-TrpnX-M_at</th>\n",
       "    </tr>\n",
       "  </thead>\n",
       "  <tbody>\n",
       "    <tr>\n",
       "      <th>0</th>\n",
       "      <td>84</td>\n",
       "      <td>basal</td>\n",
       "      <td>9.850040</td>\n",
       "      <td>8.097927</td>\n",
       "      <td>6.424728</td>\n",
       "      <td>7.353027</td>\n",
       "      <td>3.029122</td>\n",
       "      <td>6.880079</td>\n",
       "      <td>4.963740</td>\n",
       "      <td>4.408328</td>\n",
       "      <td>...</td>\n",
       "      <td>12.229711</td>\n",
       "      <td>11.852955</td>\n",
       "      <td>13.658701</td>\n",
       "      <td>13.477698</td>\n",
       "      <td>6.265781</td>\n",
       "      <td>5.016196</td>\n",
       "      <td>4.901594</td>\n",
       "      <td>2.966657</td>\n",
       "      <td>3.508495</td>\n",
       "      <td>3.301999</td>\n",
       "    </tr>\n",
       "    <tr>\n",
       "      <th>1</th>\n",
       "      <td>85</td>\n",
       "      <td>basal</td>\n",
       "      <td>9.861357</td>\n",
       "      <td>8.212222</td>\n",
       "      <td>7.062593</td>\n",
       "      <td>7.685578</td>\n",
       "      <td>3.149468</td>\n",
       "      <td>7.542283</td>\n",
       "      <td>5.129607</td>\n",
       "      <td>4.584418</td>\n",
       "      <td>...</td>\n",
       "      <td>12.178531</td>\n",
       "      <td>11.809408</td>\n",
       "      <td>13.750086</td>\n",
       "      <td>13.470146</td>\n",
       "      <td>6.771853</td>\n",
       "      <td>5.291005</td>\n",
       "      <td>5.405839</td>\n",
       "      <td>2.934763</td>\n",
       "      <td>3.687666</td>\n",
       "      <td>3.064299</td>\n",
       "    </tr>\n",
       "    <tr>\n",
       "      <th>2</th>\n",
       "      <td>87</td>\n",
       "      <td>basal</td>\n",
       "      <td>10.103478</td>\n",
       "      <td>8.936137</td>\n",
       "      <td>5.735970</td>\n",
       "      <td>7.687822</td>\n",
       "      <td>3.125931</td>\n",
       "      <td>6.562369</td>\n",
       "      <td>4.813449</td>\n",
       "      <td>4.425195</td>\n",
       "      <td>...</td>\n",
       "      <td>12.125108</td>\n",
       "      <td>11.725766</td>\n",
       "      <td>13.621732</td>\n",
       "      <td>13.295080</td>\n",
       "      <td>6.346952</td>\n",
       "      <td>5.171403</td>\n",
       "      <td>5.184286</td>\n",
       "      <td>2.847684</td>\n",
       "      <td>3.550597</td>\n",
       "      <td>3.158535</td>\n",
       "    </tr>\n",
       "    <tr>\n",
       "      <th>3</th>\n",
       "      <td>90</td>\n",
       "      <td>basal</td>\n",
       "      <td>9.756875</td>\n",
       "      <td>7.357148</td>\n",
       "      <td>6.479183</td>\n",
       "      <td>6.986624</td>\n",
       "      <td>3.181638</td>\n",
       "      <td>7.802344</td>\n",
       "      <td>5.490982</td>\n",
       "      <td>4.567956</td>\n",
       "      <td>...</td>\n",
       "      <td>12.111235</td>\n",
       "      <td>11.719215</td>\n",
       "      <td>13.743108</td>\n",
       "      <td>13.508861</td>\n",
       "      <td>6.610284</td>\n",
       "      <td>5.193356</td>\n",
       "      <td>5.086569</td>\n",
       "      <td>3.031602</td>\n",
       "      <td>3.524981</td>\n",
       "      <td>3.272665</td>\n",
       "    </tr>\n",
       "    <tr>\n",
       "      <th>4</th>\n",
       "      <td>91</td>\n",
       "      <td>basal</td>\n",
       "      <td>9.408330</td>\n",
       "      <td>7.746404</td>\n",
       "      <td>6.693980</td>\n",
       "      <td>7.333426</td>\n",
       "      <td>3.169923</td>\n",
       "      <td>7.610457</td>\n",
       "      <td>5.372469</td>\n",
       "      <td>4.424426</td>\n",
       "      <td>...</td>\n",
       "      <td>12.173642</td>\n",
       "      <td>11.861296</td>\n",
       "      <td>13.797774</td>\n",
       "      <td>13.542206</td>\n",
       "      <td>6.414354</td>\n",
       "      <td>5.040202</td>\n",
       "      <td>5.235318</td>\n",
       "      <td>2.956232</td>\n",
       "      <td>3.445501</td>\n",
       "      <td>3.193947</td>\n",
       "    </tr>\n",
       "    <tr>\n",
       "      <th>...</th>\n",
       "      <td>...</td>\n",
       "      <td>...</td>\n",
       "      <td>...</td>\n",
       "      <td>...</td>\n",
       "      <td>...</td>\n",
       "      <td>...</td>\n",
       "      <td>...</td>\n",
       "      <td>...</td>\n",
       "      <td>...</td>\n",
       "      <td>...</td>\n",
       "      <td>...</td>\n",
       "      <td>...</td>\n",
       "      <td>...</td>\n",
       "      <td>...</td>\n",
       "      <td>...</td>\n",
       "      <td>...</td>\n",
       "      <td>...</td>\n",
       "      <td>...</td>\n",
       "      <td>...</td>\n",
       "      <td>...</td>\n",
       "      <td>...</td>\n",
       "    </tr>\n",
       "    <tr>\n",
       "      <th>146</th>\n",
       "      <td>230</td>\n",
       "      <td>luminal_B</td>\n",
       "      <td>10.392638</td>\n",
       "      <td>7.334408</td>\n",
       "      <td>6.848586</td>\n",
       "      <td>7.020486</td>\n",
       "      <td>3.228065</td>\n",
       "      <td>7.815439</td>\n",
       "      <td>5.448470</td>\n",
       "      <td>4.496955</td>\n",
       "      <td>...</td>\n",
       "      <td>12.638556</td>\n",
       "      <td>12.122129</td>\n",
       "      <td>14.331152</td>\n",
       "      <td>14.133976</td>\n",
       "      <td>8.495888</td>\n",
       "      <td>4.971727</td>\n",
       "      <td>6.209136</td>\n",
       "      <td>2.852852</td>\n",
       "      <td>3.697448</td>\n",
       "      <td>3.333289</td>\n",
       "    </tr>\n",
       "    <tr>\n",
       "      <th>147</th>\n",
       "      <td>233</td>\n",
       "      <td>luminal_B</td>\n",
       "      <td>10.930875</td>\n",
       "      <td>8.415294</td>\n",
       "      <td>5.906827</td>\n",
       "      <td>7.753572</td>\n",
       "      <td>3.270557</td>\n",
       "      <td>7.367931</td>\n",
       "      <td>5.906849</td>\n",
       "      <td>5.194349</td>\n",
       "      <td>...</td>\n",
       "      <td>12.523507</td>\n",
       "      <td>11.977970</td>\n",
       "      <td>14.285405</td>\n",
       "      <td>14.070989</td>\n",
       "      <td>8.193182</td>\n",
       "      <td>6.528948</td>\n",
       "      <td>7.108210</td>\n",
       "      <td>2.929800</td>\n",
       "      <td>3.833289</td>\n",
       "      <td>3.213893</td>\n",
       "    </tr>\n",
       "    <tr>\n",
       "      <th>148</th>\n",
       "      <td>236</td>\n",
       "      <td>luminal_B</td>\n",
       "      <td>11.027098</td>\n",
       "      <td>7.180876</td>\n",
       "      <td>6.304736</td>\n",
       "      <td>7.641197</td>\n",
       "      <td>3.206950</td>\n",
       "      <td>8.569296</td>\n",
       "      <td>5.823146</td>\n",
       "      <td>4.617309</td>\n",
       "      <td>...</td>\n",
       "      <td>12.256767</td>\n",
       "      <td>11.661126</td>\n",
       "      <td>14.149586</td>\n",
       "      <td>13.977076</td>\n",
       "      <td>8.351331</td>\n",
       "      <td>6.882504</td>\n",
       "      <td>7.329545</td>\n",
       "      <td>3.085127</td>\n",
       "      <td>3.628848</td>\n",
       "      <td>3.215807</td>\n",
       "    </tr>\n",
       "    <tr>\n",
       "      <th>149</th>\n",
       "      <td>237</td>\n",
       "      <td>luminal_B</td>\n",
       "      <td>10.444395</td>\n",
       "      <td>7.525153</td>\n",
       "      <td>5.964460</td>\n",
       "      <td>7.825939</td>\n",
       "      <td>3.384147</td>\n",
       "      <td>7.268454</td>\n",
       "      <td>5.245072</td>\n",
       "      <td>5.088004</td>\n",
       "      <td>...</td>\n",
       "      <td>12.321900</td>\n",
       "      <td>11.727694</td>\n",
       "      <td>14.186277</td>\n",
       "      <td>13.943521</td>\n",
       "      <td>7.927210</td>\n",
       "      <td>6.839086</td>\n",
       "      <td>7.089259</td>\n",
       "      <td>3.018525</td>\n",
       "      <td>3.770597</td>\n",
       "      <td>3.102298</td>\n",
       "    </tr>\n",
       "    <tr>\n",
       "      <th>150</th>\n",
       "      <td>238</td>\n",
       "      <td>luminal_B</td>\n",
       "      <td>11.345817</td>\n",
       "      <td>7.379299</td>\n",
       "      <td>5.891172</td>\n",
       "      <td>7.394586</td>\n",
       "      <td>3.183420</td>\n",
       "      <td>7.792885</td>\n",
       "      <td>5.355978</td>\n",
       "      <td>4.457914</td>\n",
       "      <td>...</td>\n",
       "      <td>12.126110</td>\n",
       "      <td>11.478893</td>\n",
       "      <td>14.070188</td>\n",
       "      <td>13.857547</td>\n",
       "      <td>7.992141</td>\n",
       "      <td>5.661898</td>\n",
       "      <td>6.460331</td>\n",
       "      <td>3.061585</td>\n",
       "      <td>3.857525</td>\n",
       "      <td>3.129827</td>\n",
       "    </tr>\n",
       "  </tbody>\n",
       "</table>\n",
       "<p>151 rows × 54677 columns</p>\n",
       "</div>"
      ],
      "text/plain": [
       "     samples       type  1007_s_at   1053_at    117_at    121_at  1255_g_at  \\\n",
       "0         84      basal   9.850040  8.097927  6.424728  7.353027   3.029122   \n",
       "1         85      basal   9.861357  8.212222  7.062593  7.685578   3.149468   \n",
       "2         87      basal  10.103478  8.936137  5.735970  7.687822   3.125931   \n",
       "3         90      basal   9.756875  7.357148  6.479183  6.986624   3.181638   \n",
       "4         91      basal   9.408330  7.746404  6.693980  7.333426   3.169923   \n",
       "..       ...        ...        ...       ...       ...       ...        ...   \n",
       "146      230  luminal_B  10.392638  7.334408  6.848586  7.020486   3.228065   \n",
       "147      233  luminal_B  10.930875  8.415294  5.906827  7.753572   3.270557   \n",
       "148      236  luminal_B  11.027098  7.180876  6.304736  7.641197   3.206950   \n",
       "149      237  luminal_B  10.444395  7.525153  5.964460  7.825939   3.384147   \n",
       "150      238  luminal_B  11.345817  7.379299  5.891172  7.394586   3.183420   \n",
       "\n",
       "      1294_at   1316_at   1320_at  ...  AFFX-r2-Ec-bioD-3_at  \\\n",
       "0    6.880079  4.963740  4.408328  ...             12.229711   \n",
       "1    7.542283  5.129607  4.584418  ...             12.178531   \n",
       "2    6.562369  4.813449  4.425195  ...             12.125108   \n",
       "3    7.802344  5.490982  4.567956  ...             12.111235   \n",
       "4    7.610457  5.372469  4.424426  ...             12.173642   \n",
       "..        ...       ...       ...  ...                   ...   \n",
       "146  7.815439  5.448470  4.496955  ...             12.638556   \n",
       "147  7.367931  5.906849  5.194349  ...             12.523507   \n",
       "148  8.569296  5.823146  4.617309  ...             12.256767   \n",
       "149  7.268454  5.245072  5.088004  ...             12.321900   \n",
       "150  7.792885  5.355978  4.457914  ...             12.126110   \n",
       "\n",
       "     AFFX-r2-Ec-bioD-5_at  AFFX-r2-P1-cre-3_at  AFFX-r2-P1-cre-5_at  \\\n",
       "0               11.852955            13.658701            13.477698   \n",
       "1               11.809408            13.750086            13.470146   \n",
       "2               11.725766            13.621732            13.295080   \n",
       "3               11.719215            13.743108            13.508861   \n",
       "4               11.861296            13.797774            13.542206   \n",
       "..                    ...                  ...                  ...   \n",
       "146             12.122129            14.331152            14.133976   \n",
       "147             11.977970            14.285405            14.070989   \n",
       "148             11.661126            14.149586            13.977076   \n",
       "149             11.727694            14.186277            13.943521   \n",
       "150             11.478893            14.070188            13.857547   \n",
       "\n",
       "     AFFX-ThrX-3_at  AFFX-ThrX-5_at  AFFX-ThrX-M_at  AFFX-TrpnX-3_at  \\\n",
       "0          6.265781        5.016196        4.901594         2.966657   \n",
       "1          6.771853        5.291005        5.405839         2.934763   \n",
       "2          6.346952        5.171403        5.184286         2.847684   \n",
       "3          6.610284        5.193356        5.086569         3.031602   \n",
       "4          6.414354        5.040202        5.235318         2.956232   \n",
       "..              ...             ...             ...              ...   \n",
       "146        8.495888        4.971727        6.209136         2.852852   \n",
       "147        8.193182        6.528948        7.108210         2.929800   \n",
       "148        8.351331        6.882504        7.329545         3.085127   \n",
       "149        7.927210        6.839086        7.089259         3.018525   \n",
       "150        7.992141        5.661898        6.460331         3.061585   \n",
       "\n",
       "     AFFX-TrpnX-5_at  AFFX-TrpnX-M_at  \n",
       "0           3.508495         3.301999  \n",
       "1           3.687666         3.064299  \n",
       "2           3.550597         3.158535  \n",
       "3           3.524981         3.272665  \n",
       "4           3.445501         3.193947  \n",
       "..               ...              ...  \n",
       "146         3.697448         3.333289  \n",
       "147         3.833289         3.213893  \n",
       "148         3.628848         3.215807  \n",
       "149         3.770597         3.102298  \n",
       "150         3.857525         3.129827  \n",
       "\n",
       "[151 rows x 54677 columns]"
      ]
     },
     "execution_count": 51,
     "metadata": {},
     "output_type": "execute_result"
    }
   ],
   "source": [
    "df.dropna()"
   ]
  },
  {
   "cell_type": "code",
   "execution_count": 52,
   "id": "06e2e5db",
   "metadata": {},
   "outputs": [
    {
     "data": {
      "text/plain": [
       "0"
      ]
     },
     "execution_count": 52,
     "metadata": {},
     "output_type": "execute_result"
    }
   ],
   "source": [
    "df.type.isnull().sum()"
   ]
  },
  {
   "cell_type": "code",
   "execution_count": 53,
   "id": "10721ab1",
   "metadata": {},
   "outputs": [],
   "source": [
    "DF_RM_DUP = df.drop_duplicates()"
   ]
  },
  {
   "cell_type": "code",
   "execution_count": 54,
   "id": "7b9f035f",
   "metadata": {},
   "outputs": [],
   "source": [
    "dft=df.drop(columns = ['samples'])"
   ]
  },
  {
   "cell_type": "code",
   "execution_count": 55,
   "id": "e1263b5f",
   "metadata": {},
   "outputs": [
    {
     "data": {
      "text/html": [
       "<div>\n",
       "<style scoped>\n",
       "    .dataframe tbody tr th:only-of-type {\n",
       "        vertical-align: middle;\n",
       "    }\n",
       "\n",
       "    .dataframe tbody tr th {\n",
       "        vertical-align: top;\n",
       "    }\n",
       "\n",
       "    .dataframe thead th {\n",
       "        text-align: right;\n",
       "    }\n",
       "</style>\n",
       "<table border=\"1\" class=\"dataframe\">\n",
       "  <thead>\n",
       "    <tr style=\"text-align: right;\">\n",
       "      <th></th>\n",
       "      <th>type</th>\n",
       "      <th>1007_s_at</th>\n",
       "      <th>1053_at</th>\n",
       "      <th>117_at</th>\n",
       "      <th>121_at</th>\n",
       "      <th>1255_g_at</th>\n",
       "      <th>1294_at</th>\n",
       "      <th>1316_at</th>\n",
       "      <th>1320_at</th>\n",
       "      <th>1405_i_at</th>\n",
       "      <th>...</th>\n",
       "      <th>AFFX-r2-Ec-bioD-3_at</th>\n",
       "      <th>AFFX-r2-Ec-bioD-5_at</th>\n",
       "      <th>AFFX-r2-P1-cre-3_at</th>\n",
       "      <th>AFFX-r2-P1-cre-5_at</th>\n",
       "      <th>AFFX-ThrX-3_at</th>\n",
       "      <th>AFFX-ThrX-5_at</th>\n",
       "      <th>AFFX-ThrX-M_at</th>\n",
       "      <th>AFFX-TrpnX-3_at</th>\n",
       "      <th>AFFX-TrpnX-5_at</th>\n",
       "      <th>AFFX-TrpnX-M_at</th>\n",
       "    </tr>\n",
       "  </thead>\n",
       "  <tbody>\n",
       "    <tr>\n",
       "      <th>0</th>\n",
       "      <td>basal</td>\n",
       "      <td>9.850040</td>\n",
       "      <td>8.097927</td>\n",
       "      <td>6.424728</td>\n",
       "      <td>7.353027</td>\n",
       "      <td>3.029122</td>\n",
       "      <td>6.880079</td>\n",
       "      <td>4.963740</td>\n",
       "      <td>4.408328</td>\n",
       "      <td>8.870780</td>\n",
       "      <td>...</td>\n",
       "      <td>12.229711</td>\n",
       "      <td>11.852955</td>\n",
       "      <td>13.658701</td>\n",
       "      <td>13.477698</td>\n",
       "      <td>6.265781</td>\n",
       "      <td>5.016196</td>\n",
       "      <td>4.901594</td>\n",
       "      <td>2.966657</td>\n",
       "      <td>3.508495</td>\n",
       "      <td>3.301999</td>\n",
       "    </tr>\n",
       "    <tr>\n",
       "      <th>1</th>\n",
       "      <td>basal</td>\n",
       "      <td>9.861357</td>\n",
       "      <td>8.212222</td>\n",
       "      <td>7.062593</td>\n",
       "      <td>7.685578</td>\n",
       "      <td>3.149468</td>\n",
       "      <td>7.542283</td>\n",
       "      <td>5.129607</td>\n",
       "      <td>4.584418</td>\n",
       "      <td>7.767646</td>\n",
       "      <td>...</td>\n",
       "      <td>12.178531</td>\n",
       "      <td>11.809408</td>\n",
       "      <td>13.750086</td>\n",
       "      <td>13.470146</td>\n",
       "      <td>6.771853</td>\n",
       "      <td>5.291005</td>\n",
       "      <td>5.405839</td>\n",
       "      <td>2.934763</td>\n",
       "      <td>3.687666</td>\n",
       "      <td>3.064299</td>\n",
       "    </tr>\n",
       "    <tr>\n",
       "      <th>2</th>\n",
       "      <td>basal</td>\n",
       "      <td>10.103478</td>\n",
       "      <td>8.936137</td>\n",
       "      <td>5.735970</td>\n",
       "      <td>7.687822</td>\n",
       "      <td>3.125931</td>\n",
       "      <td>6.562369</td>\n",
       "      <td>4.813449</td>\n",
       "      <td>4.425195</td>\n",
       "      <td>9.417956</td>\n",
       "      <td>...</td>\n",
       "      <td>12.125108</td>\n",
       "      <td>11.725766</td>\n",
       "      <td>13.621732</td>\n",
       "      <td>13.295080</td>\n",
       "      <td>6.346952</td>\n",
       "      <td>5.171403</td>\n",
       "      <td>5.184286</td>\n",
       "      <td>2.847684</td>\n",
       "      <td>3.550597</td>\n",
       "      <td>3.158535</td>\n",
       "    </tr>\n",
       "    <tr>\n",
       "      <th>3</th>\n",
       "      <td>basal</td>\n",
       "      <td>9.756875</td>\n",
       "      <td>7.357148</td>\n",
       "      <td>6.479183</td>\n",
       "      <td>6.986624</td>\n",
       "      <td>3.181638</td>\n",
       "      <td>7.802344</td>\n",
       "      <td>5.490982</td>\n",
       "      <td>4.567956</td>\n",
       "      <td>9.022345</td>\n",
       "      <td>...</td>\n",
       "      <td>12.111235</td>\n",
       "      <td>11.719215</td>\n",
       "      <td>13.743108</td>\n",
       "      <td>13.508861</td>\n",
       "      <td>6.610284</td>\n",
       "      <td>5.193356</td>\n",
       "      <td>5.086569</td>\n",
       "      <td>3.031602</td>\n",
       "      <td>3.524981</td>\n",
       "      <td>3.272665</td>\n",
       "    </tr>\n",
       "    <tr>\n",
       "      <th>4</th>\n",
       "      <td>basal</td>\n",
       "      <td>9.408330</td>\n",
       "      <td>7.746404</td>\n",
       "      <td>6.693980</td>\n",
       "      <td>7.333426</td>\n",
       "      <td>3.169923</td>\n",
       "      <td>7.610457</td>\n",
       "      <td>5.372469</td>\n",
       "      <td>4.424426</td>\n",
       "      <td>9.400056</td>\n",
       "      <td>...</td>\n",
       "      <td>12.173642</td>\n",
       "      <td>11.861296</td>\n",
       "      <td>13.797774</td>\n",
       "      <td>13.542206</td>\n",
       "      <td>6.414354</td>\n",
       "      <td>5.040202</td>\n",
       "      <td>5.235318</td>\n",
       "      <td>2.956232</td>\n",
       "      <td>3.445501</td>\n",
       "      <td>3.193947</td>\n",
       "    </tr>\n",
       "  </tbody>\n",
       "</table>\n",
       "<p>5 rows × 54676 columns</p>\n",
       "</div>"
      ],
      "text/plain": [
       "    type  1007_s_at   1053_at    117_at    121_at  1255_g_at   1294_at  \\\n",
       "0  basal   9.850040  8.097927  6.424728  7.353027   3.029122  6.880079   \n",
       "1  basal   9.861357  8.212222  7.062593  7.685578   3.149468  7.542283   \n",
       "2  basal  10.103478  8.936137  5.735970  7.687822   3.125931  6.562369   \n",
       "3  basal   9.756875  7.357148  6.479183  6.986624   3.181638  7.802344   \n",
       "4  basal   9.408330  7.746404  6.693980  7.333426   3.169923  7.610457   \n",
       "\n",
       "    1316_at   1320_at  1405_i_at  ...  AFFX-r2-Ec-bioD-3_at  \\\n",
       "0  4.963740  4.408328   8.870780  ...             12.229711   \n",
       "1  5.129607  4.584418   7.767646  ...             12.178531   \n",
       "2  4.813449  4.425195   9.417956  ...             12.125108   \n",
       "3  5.490982  4.567956   9.022345  ...             12.111235   \n",
       "4  5.372469  4.424426   9.400056  ...             12.173642   \n",
       "\n",
       "   AFFX-r2-Ec-bioD-5_at  AFFX-r2-P1-cre-3_at  AFFX-r2-P1-cre-5_at  \\\n",
       "0             11.852955            13.658701            13.477698   \n",
       "1             11.809408            13.750086            13.470146   \n",
       "2             11.725766            13.621732            13.295080   \n",
       "3             11.719215            13.743108            13.508861   \n",
       "4             11.861296            13.797774            13.542206   \n",
       "\n",
       "   AFFX-ThrX-3_at  AFFX-ThrX-5_at  AFFX-ThrX-M_at  AFFX-TrpnX-3_at  \\\n",
       "0        6.265781        5.016196        4.901594         2.966657   \n",
       "1        6.771853        5.291005        5.405839         2.934763   \n",
       "2        6.346952        5.171403        5.184286         2.847684   \n",
       "3        6.610284        5.193356        5.086569         3.031602   \n",
       "4        6.414354        5.040202        5.235318         2.956232   \n",
       "\n",
       "   AFFX-TrpnX-5_at  AFFX-TrpnX-M_at  \n",
       "0         3.508495         3.301999  \n",
       "1         3.687666         3.064299  \n",
       "2         3.550597         3.158535  \n",
       "3         3.524981         3.272665  \n",
       "4         3.445501         3.193947  \n",
       "\n",
       "[5 rows x 54676 columns]"
      ]
     },
     "execution_count": 55,
     "metadata": {},
     "output_type": "execute_result"
    }
   ],
   "source": [
    "dft.head()"
   ]
  },
  {
   "cell_type": "code",
   "execution_count": 56,
   "id": "62f20d0b",
   "metadata": {},
   "outputs": [],
   "source": [
    "ord_enc = OrdinalEncoder()\n",
    "dft[\"type\"] = ord_enc.fit_transform(dft[[\"type\"]])"
   ]
  },
  {
   "cell_type": "code",
   "execution_count": 57,
   "id": "b10771a9",
   "metadata": {},
   "outputs": [],
   "source": [
    "X=dft.drop(columns = ['type'])"
   ]
  },
  {
   "cell_type": "code",
   "execution_count": 58,
   "id": "28251098",
   "metadata": {},
   "outputs": [],
   "source": [
    "y=dft['type']"
   ]
  },
  {
   "cell_type": "code",
   "execution_count": 59,
   "id": "4d8d84e0",
   "metadata": {},
   "outputs": [],
   "source": [
    "X_train,X_test,y_train,y_test = train_test_split(X,y,test_size=0.33,random_state=324)"
   ]
  },
  {
   "cell_type": "markdown",
   "id": "2761e6af",
   "metadata": {},
   "source": [
    "## Decision tree"
   ]
  },
  {
   "cell_type": "code",
   "execution_count": 12,
   "id": "445c8672",
   "metadata": {},
   "outputs": [],
   "source": [
    "max_depth = range(2,100,2) \n",
    "testing_accuracy = []\n",
    "training_accuracy = []\n",
    "DTaccuracy = 0"
   ]
  },
  {
   "cell_type": "code",
   "execution_count": 13,
   "id": "f8018999",
   "metadata": {},
   "outputs": [],
   "source": [
    "for i in max_depth: \n",
    "    dt = DecisionTreeClassifier(max_depth=i, random_state=342)\n",
    "    dt.fit(X_train,y_train)\n",
    "    y_pred = dt.predict(X_train)\n",
    "    training_accuracy.append(accuracy_score(y_train, y_pred)) \n",
    "    y_predict_test = dt.predict(X_test)\n",
    "    acc_score = accuracy_score(y_test,y_predict_test)\n",
    "    testing_accuracy.append(acc_score) \n",
    "    if DTaccuracy < acc_score: \n",
    "        DTaccuracy = acc_score \n",
    "        best_depth = i"
   ]
  },
  {
   "cell_type": "code",
   "execution_count": 14,
   "id": "ca67e00c",
   "metadata": {},
   "outputs": [],
   "source": [
    " DTaccuracy= DTaccuracy*100"
   ]
  },
  {
   "cell_type": "code",
   "execution_count": 15,
   "id": "1603a232",
   "metadata": {},
   "outputs": [
    {
     "name": "stdout",
     "output_type": "stream",
     "text": [
      "accuracy for best depth: 84.0\n"
     ]
    }
   ],
   "source": [
    "print(\"accuracy for best depth:\" , DTaccuracy)"
   ]
  },
  {
   "cell_type": "code",
   "execution_count": 16,
   "id": "e386399a",
   "metadata": {},
   "outputs": [
    {
     "name": "stdout",
     "output_type": "stream",
     "text": [
      "2\n"
     ]
    }
   ],
   "source": [
    "print(best_depth)"
   ]
  },
  {
   "cell_type": "markdown",
   "id": "f8458176",
   "metadata": {},
   "source": [
    "## K-nearest neighbors"
   ]
  },
  {
   "cell_type": "code",
   "execution_count": 18,
   "id": "dec32766",
   "metadata": {},
   "outputs": [],
   "source": [
    "k = range(1,100,2) \n",
    "testing_accuracy = []\n",
    "training_accuracy = []\n",
    "KNNaccuracy = 0 "
   ]
  },
  {
   "cell_type": "code",
   "execution_count": 19,
   "id": "177178e8",
   "metadata": {},
   "outputs": [],
   "source": [
    "for i in k: \n",
    "    knn = KNeighborsClassifier(n_neighbors = i)\n",
    "    knn.fit(X_train, y_train) \n",
    "    y_predict_train = knn.predict(X_train)\n",
    "    training_accuracy.append(accuracy_score(y_train, y_predict_train)) \n",
    "    y_predict_test = knn.predict(X_test)\n",
    "    acc_score = accuracy_score(y_test,y_predict_test)\n",
    "    testing_accuracy.append(acc_score) \n",
    "    if KNNaccuracy < acc_score: \n",
    "        KNNaccuracy = acc_score \n",
    "        best_k = i"
   ]
  },
  {
   "cell_type": "code",
   "execution_count": 20,
   "id": "8fc346e7",
   "metadata": {},
   "outputs": [],
   "source": [
    "KNNaccuracy= KNNaccuracy*100"
   ]
  },
  {
   "cell_type": "code",
   "execution_count": 21,
   "id": "cf9f1299",
   "metadata": {},
   "outputs": [
    {
     "name": "stdout",
     "output_type": "stream",
     "text": [
      "accuracy for best k: 90.0\n"
     ]
    }
   ],
   "source": [
    "print(\"accuracy for best k:\" , KNNaccuracy)"
   ]
  },
  {
   "cell_type": "code",
   "execution_count": 22,
   "id": "c921a3ef",
   "metadata": {},
   "outputs": [
    {
     "name": "stdout",
     "output_type": "stream",
     "text": [
      "7\n"
     ]
    }
   ],
   "source": [
    "print(best_k)"
   ]
  },
  {
   "cell_type": "markdown",
   "id": "2aeb40b5",
   "metadata": {},
   "source": [
    "# Perceptron  "
   ]
  },
  {
   "cell_type": "markdown",
   "id": "c4fc568e",
   "metadata": {},
   "source": [
    "## Multi-Layer Perceptron (MLP)"
   ]
  },
  {
   "cell_type": "code",
   "execution_count": 43,
   "id": "0388d493",
   "metadata": {},
   "outputs": [],
   "source": [
    "scaler = StandardScaler() "
   ]
  },
  {
   "cell_type": "code",
   "execution_count": 44,
   "id": "7253b9cd",
   "metadata": {},
   "outputs": [],
   "source": [
    "X_train_scaler = scaler.fit_transform(X_train)\n",
    "X_test_scaler = scaler.transform(X_test)"
   ]
  },
  {
   "cell_type": "code",
   "execution_count": 45,
   "id": "bbae329d",
   "metadata": {},
   "outputs": [],
   "source": [
    "mlp = MLPClassifier(\n",
    "       max_iter=1000,\n",
    "       alpha=0.1,\n",
    "       activation='logistic',\n",
    "       solver='adam',\n",
    "       random_state=42\n",
    "      )"
   ]
  },
  {
   "cell_type": "code",
   "execution_count": 46,
   "id": "ed6be6b6",
   "metadata": {},
   "outputs": [],
   "source": [
    "mlp.fit(X_train_scaler, y_train)\n",
    "mlp_predict = mlp.predict(X_test_scaler)"
   ]
  },
  {
   "cell_type": "code",
   "execution_count": 47,
   "id": "229d1646",
   "metadata": {},
   "outputs": [],
   "source": [
    "MLPaccuracy = accuracy_score(y_test, mlp_predict)*100"
   ]
  },
  {
   "cell_type": "code",
   "execution_count": 48,
   "id": "2891831c",
   "metadata": {},
   "outputs": [
    {
     "name": "stdout",
     "output_type": "stream",
     "text": [
      "MLP Accuracy:  86.0\n"
     ]
    }
   ],
   "source": [
    "print('MLP Accuracy: ' , MLPaccuracy)"
   ]
  },
  {
   "cell_type": "markdown",
   "id": "cf558862",
   "metadata": {},
   "source": [
    "## Single-layer Perceptron"
   ]
  },
  {
   "cell_type": "code",
   "execution_count": 29,
   "id": "ec34e5a4",
   "metadata": {},
   "outputs": [],
   "source": [
    "x = df.drop(['type'],axis=1)\n",
    "y = df.type\n",
    "class_breast = LabelEncoder()\n",
    "y = class_breast.fit_transform(df.type.values)"
   ]
  },
  {
   "cell_type": "code",
   "execution_count": 30,
   "id": "7fe8bd92",
   "metadata": {},
   "outputs": [],
   "source": [
    "X_train, X_test, y_train, y_test = train_test_split(x,y,random_state=42,test_size=0.33)"
   ]
  },
  {
   "cell_type": "code",
   "execution_count": 31,
   "id": "86f2d85e",
   "metadata": {},
   "outputs": [
    {
     "data": {
      "text/plain": [
       "Perceptron(eta0=0.1, max_iter=40)"
      ]
     },
     "execution_count": 31,
     "metadata": {},
     "output_type": "execute_result"
    }
   ],
   "source": [
    "type_classifier = Perceptron(max_iter=40, eta0=0.1, random_state=0)\n",
    "type_classifier.fit(X_train,y_train.ravel())"
   ]
  },
  {
   "cell_type": "code",
   "execution_count": 32,
   "id": "8cc9e458",
   "metadata": {},
   "outputs": [],
   "source": [
    "y_predicted =type_classifier.predict(X_test)"
   ]
  },
  {
   "cell_type": "code",
   "execution_count": 33,
   "id": "f7851701",
   "metadata": {},
   "outputs": [
    {
     "data": {
      "text/plain": [
       "sklearn.linear_model._perceptron.Perceptron"
      ]
     },
     "execution_count": 33,
     "metadata": {},
     "output_type": "execute_result"
    }
   ],
   "source": [
    "type(type_classifier)"
   ]
  },
  {
   "cell_type": "code",
   "execution_count": 34,
   "id": "a7f2cd93",
   "metadata": {},
   "outputs": [
    {
     "data": {
      "text/plain": [
       "array([2, 1, 2, 2, 4, 1, 2, 0, 0, 5])"
      ]
     },
     "execution_count": 34,
     "metadata": {},
     "output_type": "execute_result"
    }
   ],
   "source": [
    "y_predicted[:10]"
   ]
  },
  {
   "cell_type": "code",
   "execution_count": 35,
   "id": "35c26ec4",
   "metadata": {},
   "outputs": [],
   "source": [
    "Perceptron_accuracy= accuracy_score(y_test,y_predicted)*100"
   ]
  },
  {
   "cell_type": "code",
   "execution_count": 36,
   "id": "77b0f3bf",
   "metadata": {},
   "outputs": [
    {
     "name": "stdout",
     "output_type": "stream",
     "text": [
      "92.0\n"
     ]
    }
   ],
   "source": [
    "print(Perceptron_accuracy)"
   ]
  },
  {
   "cell_type": "markdown",
   "id": "699de06e",
   "metadata": {},
   "source": [
    "## Visualization"
   ]
  },
  {
   "cell_type": "code",
   "execution_count": 60,
   "id": "f6c35fbb",
   "metadata": {},
   "outputs": [
    {
     "data": {
      "text/plain": [
       "[(0.0, 100.0)]"
      ]
     },
     "execution_count": 60,
     "metadata": {},
     "output_type": "execute_result"
    },
    {
     "data": {
      "image/png": "[encoded data removed]",
      "text/plain": [
       "<Figure size 576x432 with 1 Axes>"
      ]
     },
     "metadata": {},
     "output_type": "display_data"
    }
   ],
   "source": [
    "plt.style.use(\"seaborn\")\n",
    "\n",
    "x = [\"Decision Tree Classifier\",  \n",
    "     \"KNeighborsClassifier\",\"MLP Classifier\", \"Perceptron\"]\n",
    "\n",
    "y = [DTaccuracy, \n",
    "     KNNaccuracy,\n",
    "     MLPaccuracy,\n",
    "     Perceptron_accuracy]\n",
    "\n",
    "fig, ax = plt.subplots(figsize=(8,6))\n",
    "sns.barplot(x=x,y=y, palette=\"crest\");\n",
    "plt.ylabel(\"Model Accuracy\")\n",
    "plt.title(\"Model Comparison - Model Accuracy\", fontsize=16, fontname=\"arial\", y=1);\n",
    "ax.set(ylim=(0, 100))"
   ]
  },
  {
   "cell_type": "code",
   "execution_count": null,
   "id": "6071c33d",
   "metadata": {},
   "outputs": [],
   "source": []
  },
  {
   "cell_type": "code",
   "execution_count": null,
   "id": "269d2e7d",
   "metadata": {},
   "outputs": [],
   "source": []
  },
  {
   "cell_type": "code",
   "execution_count": null,
   "id": "e57bdb92",
   "metadata": {},
   "outputs": [],
   "source": []
  }
 ],
 "metadata": {
  "kernelspec": {
   "display_name": "Python 3 (ipykernel)",
   "language": "python",
   "name": "python3"
  },
  "language_info": {
   "codemirror_mode": {
    "name": "ipython",
    "version": 3
   },
   "file_extension": ".py",
   "mimetype": "text/x-python",
   "name": "python",
   "nbconvert_exporter": "python",
   "pygments_lexer": "ipython3",
   "version": "3.9.7"
  }
 },
 "nbformat": 4,
 "nbformat_minor": 5
}
